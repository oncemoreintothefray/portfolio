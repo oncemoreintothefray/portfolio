{
 "cells": [
  {
   "cell_type": "markdown",
   "metadata": {},
   "source": [
    "# Torino Museum Data Analysis & Churn Prediction in R"
   ]
  },
  {
   "cell_type": "code",
   "execution_count": 1,
   "metadata": {},
   "outputs": [
    {
     "name": "stderr",
     "output_type": "stream",
     "text": [
      "Loading required package: lattice\n",
      "Loading required package: ggplot2\n",
      "Welcome! Related Books: `Practical Guide To Cluster Analysis in R` at https://goo.gl/13EFCZ\n",
      "corrplot 0.84 loaded\n",
      "Loading required package: mlr\n",
      "Loading required package: ParamHelpers\n",
      "\n",
      "Attaching package: 'mlr'\n",
      "\n",
      "The following object is masked from 'package:caret':\n",
      "\n",
      "    train\n",
      "\n",
      "Loading required package: foreach\n",
      "Loading required package: doParallel\n",
      "Loading required package: iterators\n",
      "Loading required package: parallel\n",
      "Loading required package: grid\n",
      "Registered S3 method overwritten by 'xts':\n",
      "  method     from\n",
      "  as.zoo.xts zoo \n",
      "Registered S3 method overwritten by 'quantmod':\n",
      "  method            from\n",
      "  as.zoo.data.frame zoo \n",
      "\n",
      "Attaching package: 'DMwR'\n",
      "\n",
      "The following object is masked from 'package:plyr':\n",
      "\n",
      "    join\n",
      "\n",
      "Loading required package: gsubfn\n",
      "Loading required package: proto\n",
      "\n",
      "Attaching package: 'gsubfn'\n",
      "\n",
      "The following object is masked from 'package:mlr':\n",
      "\n",
      "    fn\n",
      "\n",
      "Loading required package: RSQLite\n",
      "\n",
      "Attaching package: 'dplyr'\n",
      "\n",
      "The following objects are masked from 'package:plyr':\n",
      "\n",
      "    arrange, count, desc, failwith, id, mutate, rename, summarise,\n",
      "    summarize\n",
      "\n",
      "The following object is masked from 'package:gridExtra':\n",
      "\n",
      "    combine\n",
      "\n",
      "The following objects are masked from 'package:data.table':\n",
      "\n",
      "    between, first, last\n",
      "\n",
      "The following objects are masked from 'package:stats':\n",
      "\n",
      "    filter, lag\n",
      "\n",
      "The following objects are masked from 'package:base':\n",
      "\n",
      "    intersect, setdiff, setequal, union\n",
      "\n",
      "Loading required package: sp\n",
      "rgdal: version: 1.4-3, (SVN revision 828)\n",
      " Geospatial Data Abstraction Library extensions to R successfully loaded\n",
      " Loaded GDAL runtime: GDAL 2.2.3, released 2017/11/20\n",
      " Path to GDAL shared files: C:/Users/Spectre/Documents/R/win-library/3.6/rgdal/gdal\n",
      " GDAL binary built with GEOS: TRUE \n",
      " Loaded PROJ.4 runtime: Rel. 4.9.3, 15 August 2016, [PJ_VERSION: 493]\n",
      " Path to PROJ.4 shared files: C:/Users/Spectre/Documents/R/win-library/3.6/rgdal/proj\n",
      " Linking to sp version: 1.3-1 \n",
      "\n",
      "Attaching package: 'mice'\n",
      "\n",
      "The following objects are masked from 'package:base':\n",
      "\n",
      "    cbind, rbind\n",
      "\n",
      "Loading required package: colorspace\n",
      "Registered S3 methods overwritten by 'car':\n",
      "  method                          from\n",
      "  influence.merMod                lme4\n",
      "  cooks.distance.influence.merMod lme4\n",
      "  dfbeta.influence.merMod         lme4\n",
      "  dfbetas.influence.merMod        lme4\n",
      "VIM is ready to use. \n",
      " Since version 4.0.0 the GUI is in its own package VIMGUI.\n",
      "\n",
      "          Please use the package to use the new (and old) GUI.\n",
      "\n",
      "Suggestions and bug-reports can be submitted at: https://github.com/alexkowa/VIM/issues\n",
      "\n",
      "Attaching package: 'VIM'\n",
      "\n",
      "The following object is masked from 'package:DMwR':\n",
      "\n",
      "    kNN\n",
      "\n",
      "The following object is masked from 'package:datasets':\n",
      "\n",
      "    sleep\n",
      "\n",
      "Loading required package: partykit\n",
      "Loading required package: libcoin\n",
      "Loading required package: mvtnorm\n"
     ]
    }
   ],
   "source": [
    "library(readr)\n",
    "library(\"caret\")\n",
    "library(\"data.table\")\n",
    "library(\"cluster\")\n",
    "library(\"factoextra\")\n",
    "library(\"gridExtra\")\n",
    "library(\"plyr\")\n",
    "library(\"corrplot\")\n",
    "library(\"unbalanced\")\n",
    "library(\"DMwR\")\n",
    "library(\"C50\")\n",
    "library(\"gains\")\n",
    "library(\"sqldf\")\n",
    "library(dplyr)\n",
    "library(leaflet)\n",
    "library(rgdal)\n",
    "library(mice)\n",
    "library(VIM)\n",
    "library(anytime)\n",
    "library(forcats)\n",
    "library(ggplot2)\n",
    "library(caret)\n",
    "library(evtree)"
   ]
  },
  {
   "cell_type": "code",
   "execution_count": null,
   "metadata": {},
   "outputs": [],
   "source": []
  },
  {
   "cell_type": "code",
   "execution_count": 4,
   "metadata": {},
   "outputs": [
    {
     "data": {
      "text/html": [
       "'C:/Users/Spectre/Desktop/Museum'"
      ],
      "text/latex": [
       "'C:/Users/Spectre/Desktop/Museum'"
      ],
      "text/markdown": [
       "'C:/Users/Spectre/Desktop/Museum'"
      ],
      "text/plain": [
       "[1] \"C:/Users/Spectre/Desktop/Museum\""
      ]
     },
     "metadata": {},
     "output_type": "display_data"
    }
   ],
   "source": [
    "getwd()\n",
    "setwd('C:/Users/Spectre/Desktop/Museum')\n"
   ]
  },
  {
   "cell_type": "code",
   "execution_count": 5,
   "metadata": {},
   "outputs": [],
   "source": [
    "an13<-read.csv(\"an13.csv\",header=TRUE)\n",
    "in13<-read.csv(\"in13.csv\",header=TRUE)\n",
    "data1<-read.csv(\"data1.csv\",header=TRUE)"
   ]
  },
  {
   "cell_type": "code",
   "execution_count": 7,
   "metadata": {},
   "outputs": [
    {
     "data": {
      "text/html": [
       "<table>\n",
       "<thead><tr><th scope=col>X</th><th scope=col>codcliente</th><th scope=col>si2014</th><th scope=col>ultimo_ing.x</th><th scope=col>abb13</th><th scope=col>abb14</th></tr></thead>\n",
       "<tbody>\n",
       "\t<tr><td>1         </td><td>100005    </td><td>0         </td><td>2013-09-19</td><td>2013-01-27</td><td>NA        </td></tr>\n",
       "\t<tr><td>2         </td><td>100006    </td><td>1         </td><td>2013-11-21</td><td>2013-01-14</td><td>2014-01-09</td></tr>\n",
       "\t<tr><td>3         </td><td>100007    </td><td>0         </td><td>NA        </td><td>2012-12-05</td><td>NA        </td></tr>\n",
       "\t<tr><td>4         </td><td>100017    </td><td>1         </td><td>2013-10-19</td><td>2012-12-10</td><td>2013-12-01</td></tr>\n",
       "\t<tr><td>5         </td><td>100020    </td><td>0         </td><td>2013-08-11</td><td>2012-12-09</td><td>NA        </td></tr>\n",
       "\t<tr><td>6         </td><td>100021    </td><td>0         </td><td>2013-08-22</td><td>2013-02-18</td><td>NA        </td></tr>\n",
       "</tbody>\n",
       "</table>\n"
      ],
      "text/latex": [
       "\\begin{tabular}{r|llllll}\n",
       " X & codcliente & si2014 & ultimo\\_ing.x & abb13 & abb14\\\\\n",
       "\\hline\n",
       "\t 1          & 100005     & 0          & 2013-09-19 & 2013-01-27 & NA        \\\\\n",
       "\t 2          & 100006     & 1          & 2013-11-21 & 2013-01-14 & 2014-01-09\\\\\n",
       "\t 3          & 100007     & 0          & NA         & 2012-12-05 & NA        \\\\\n",
       "\t 4          & 100017     & 1          & 2013-10-19 & 2012-12-10 & 2013-12-01\\\\\n",
       "\t 5          & 100020     & 0          & 2013-08-11 & 2012-12-09 & NA        \\\\\n",
       "\t 6          & 100021     & 0          & 2013-08-22 & 2013-02-18 & NA        \\\\\n",
       "\\end{tabular}\n"
      ],
      "text/markdown": [
       "\n",
       "| X | codcliente | si2014 | ultimo_ing.x | abb13 | abb14 |\n",
       "|---|---|---|---|---|---|\n",
       "| 1          | 100005     | 0          | 2013-09-19 | 2013-01-27 | NA         |\n",
       "| 2          | 100006     | 1          | 2013-11-21 | 2013-01-14 | 2014-01-09 |\n",
       "| 3          | 100007     | 0          | NA         | 2012-12-05 | NA         |\n",
       "| 4          | 100017     | 1          | 2013-10-19 | 2012-12-10 | 2013-12-01 |\n",
       "| 5          | 100020     | 0          | 2013-08-11 | 2012-12-09 | NA         |\n",
       "| 6          | 100021     | 0          | 2013-08-22 | 2013-02-18 | NA         |\n",
       "\n"
      ],
      "text/plain": [
       "  X codcliente si2014 ultimo_ing.x abb13      abb14     \n",
       "1 1 100005     0      2013-09-19   2013-01-27 NA        \n",
       "2 2 100006     1      2013-11-21   2013-01-14 2014-01-09\n",
       "3 3 100007     0      NA           2012-12-05 NA        \n",
       "4 4 100017     1      2013-10-19   2012-12-10 2013-12-01\n",
       "5 5 100020     0      2013-08-11   2012-12-09 NA        \n",
       "6 6 100021     0      2013-08-22   2013-02-18 NA        "
      ]
     },
     "metadata": {},
     "output_type": "display_data"
    },
    {
     "data": {
      "text/html": [
       "<table>\n",
       "<thead><tr><th scope=col>X</th><th scope=col>codcliente</th><th scope=col>data_inizio</th><th scope=col>importo</th><th scope=col>sconto</th><th scope=col>riduzione</th><th scope=col>tipo_pag</th><th scope=col>agenzia</th><th scope=col>agenzia_tipo</th><th scope=col>sesso</th><th scope=col>data_nascita</th><th scope=col>professione</th><th scope=col>comune</th><th scope=col>cap</th><th scope=col>nuovo_abb</th></tr></thead>\n",
       "<tbody>\n",
       "\t<tr><td>1                           </td><td> 90095                      </td><td>09/12/2012 00:00            </td><td>28                          </td><td>NESSUNO SCONTO              </td><td>ABBONAMENTO RIDOTTO SCONTATO</td><td>CONTANTI                    </td><td>INFOPIEMONTE TORINO CULTURA </td><td>PUNTO INFORMATIVO           </td><td>M                           </td><td>1985                        </td><td>NA                          </td><td>TORINO                      </td><td>10100                       </td><td>NUOVO ABBONATO              </td></tr>\n",
       "\t<tr><td>2                           </td><td> 89662                      </td><td>06/01/2013 00:00            </td><td>28                          </td><td>NESSUNO SCONTO              </td><td>ABBONAMENTO RIDOTTO SCONTATO</td><td>CONTANTI                    </td><td>INFOPIEMONTE TORINO CULTURA </td><td>PUNTO INFORMATIVO           </td><td>M                           </td><td>1985                        </td><td>NA                          </td><td>TORINO                      </td><td>10129                       </td><td>NUOVO ABBONATO              </td></tr>\n",
       "\t<tr><td>3                           </td><td>202278                      </td><td>27/01/2013 00:00            </td><td>28                          </td><td>NESSUNO SCONTO              </td><td>ABBONAMENTO RIDOTTO SCONTATO</td><td>BANCOMAT                    </td><td>INFOPIEMONTE TORINO CULTURA </td><td>PUNTO INFORMATIVO           </td><td>M                           </td><td>1992                        </td><td>NA                          </td><td>TORINO                      </td><td>10137                       </td><td>NUOVO ABBONATO              </td></tr>\n",
       "\t<tr><td>4                           </td><td>269895                      </td><td>02/12/2012 00:00            </td><td>28                          </td><td>NESSUNO SCONTO              </td><td>ABBONAMENTO RIDOTTO SCONTATO</td><td>CONTANTI                    </td><td>LIBRERIA MONDADORI          </td><td>PUNTO COMMERCIALE           </td><td>M                           </td><td>1986                        </td><td>NA                          </td><td>SVIZZERA                    </td><td>10036                       </td><td>NUOVO ABBONATO              </td></tr>\n",
       "\t<tr><td>5                           </td><td> 88177                      </td><td>26/01/2013 00:00            </td><td>28                          </td><td>NESSUNO SCONTO              </td><td>ABBONAMENTO RIDOTTO SCONTATO</td><td>CONTANTI                    </td><td>INFOPIEMONTE TORINO CULTURA </td><td>PUNTO INFORMATIVO           </td><td>M                           </td><td>1983                        </td><td>NA                          </td><td>TORINO                      </td><td>10149                       </td><td>NUOVO ABBONATO              </td></tr>\n",
       "\t<tr><td>6                           </td><td>125858                      </td><td>19/04/2013 00:00            </td><td>28                          </td><td>NESSUNO SCONTO              </td><td>ABBONAMENTO RIDOTTO SCONTATO</td><td>CONTANTI                    </td><td>INFOPIEMONTE TORINO CULTURA </td><td>PUNTO INFORMATIVO           </td><td>F                           </td><td>1989                        </td><td>NA                          </td><td>TORINO                      </td><td>10100                       </td><td>NUOVO ABBONATO              </td></tr>\n",
       "</tbody>\n",
       "</table>\n"
      ],
      "text/latex": [
       "\\begin{tabular}{r|lllllllllllllll}\n",
       " X & codcliente & data\\_inizio & importo & sconto & riduzione & tipo\\_pag & agenzia & agenzia\\_tipo & sesso & data\\_nascita & professione & comune & cap & nuovo\\_abb\\\\\n",
       "\\hline\n",
       "\t 1                            &  90095                       & 09/12/2012 00:00             & 28                           & NESSUNO SCONTO               & ABBONAMENTO RIDOTTO SCONTATO & CONTANTI                     & INFOPIEMONTE TORINO CULTURA  & PUNTO INFORMATIVO            & M                            & 1985                         & NA                           & TORINO                       & 10100                        & NUOVO ABBONATO              \\\\\n",
       "\t 2                            &  89662                       & 06/01/2013 00:00             & 28                           & NESSUNO SCONTO               & ABBONAMENTO RIDOTTO SCONTATO & CONTANTI                     & INFOPIEMONTE TORINO CULTURA  & PUNTO INFORMATIVO            & M                            & 1985                         & NA                           & TORINO                       & 10129                        & NUOVO ABBONATO              \\\\\n",
       "\t 3                            & 202278                       & 27/01/2013 00:00             & 28                           & NESSUNO SCONTO               & ABBONAMENTO RIDOTTO SCONTATO & BANCOMAT                     & INFOPIEMONTE TORINO CULTURA  & PUNTO INFORMATIVO            & M                            & 1992                         & NA                           & TORINO                       & 10137                        & NUOVO ABBONATO              \\\\\n",
       "\t 4                            & 269895                       & 02/12/2012 00:00             & 28                           & NESSUNO SCONTO               & ABBONAMENTO RIDOTTO SCONTATO & CONTANTI                     & LIBRERIA MONDADORI           & PUNTO COMMERCIALE            & M                            & 1986                         & NA                           & SVIZZERA                     & 10036                        & NUOVO ABBONATO              \\\\\n",
       "\t 5                            &  88177                       & 26/01/2013 00:00             & 28                           & NESSUNO SCONTO               & ABBONAMENTO RIDOTTO SCONTATO & CONTANTI                     & INFOPIEMONTE TORINO CULTURA  & PUNTO INFORMATIVO            & M                            & 1983                         & NA                           & TORINO                       & 10149                        & NUOVO ABBONATO              \\\\\n",
       "\t 6                            & 125858                       & 19/04/2013 00:00             & 28                           & NESSUNO SCONTO               & ABBONAMENTO RIDOTTO SCONTATO & CONTANTI                     & INFOPIEMONTE TORINO CULTURA  & PUNTO INFORMATIVO            & F                            & 1989                         & NA                           & TORINO                       & 10100                        & NUOVO ABBONATO              \\\\\n",
       "\\end{tabular}\n"
      ],
      "text/markdown": [
       "\n",
       "| X | codcliente | data_inizio | importo | sconto | riduzione | tipo_pag | agenzia | agenzia_tipo | sesso | data_nascita | professione | comune | cap | nuovo_abb |\n",
       "|---|---|---|---|---|---|---|---|---|---|---|---|---|---|---|\n",
       "| 1                            |  90095                       | 09/12/2012 00:00             | 28                           | NESSUNO SCONTO               | ABBONAMENTO RIDOTTO SCONTATO | CONTANTI                     | INFOPIEMONTE TORINO CULTURA  | PUNTO INFORMATIVO            | M                            | 1985                         | NA                           | TORINO                       | 10100                        | NUOVO ABBONATO               |\n",
       "| 2                            |  89662                       | 06/01/2013 00:00             | 28                           | NESSUNO SCONTO               | ABBONAMENTO RIDOTTO SCONTATO | CONTANTI                     | INFOPIEMONTE TORINO CULTURA  | PUNTO INFORMATIVO            | M                            | 1985                         | NA                           | TORINO                       | 10129                        | NUOVO ABBONATO               |\n",
       "| 3                            | 202278                       | 27/01/2013 00:00             | 28                           | NESSUNO SCONTO               | ABBONAMENTO RIDOTTO SCONTATO | BANCOMAT                     | INFOPIEMONTE TORINO CULTURA  | PUNTO INFORMATIVO            | M                            | 1992                         | NA                           | TORINO                       | 10137                        | NUOVO ABBONATO               |\n",
       "| 4                            | 269895                       | 02/12/2012 00:00             | 28                           | NESSUNO SCONTO               | ABBONAMENTO RIDOTTO SCONTATO | CONTANTI                     | LIBRERIA MONDADORI           | PUNTO COMMERCIALE            | M                            | 1986                         | NA                           | SVIZZERA                     | 10036                        | NUOVO ABBONATO               |\n",
       "| 5                            |  88177                       | 26/01/2013 00:00             | 28                           | NESSUNO SCONTO               | ABBONAMENTO RIDOTTO SCONTATO | CONTANTI                     | INFOPIEMONTE TORINO CULTURA  | PUNTO INFORMATIVO            | M                            | 1983                         | NA                           | TORINO                       | 10149                        | NUOVO ABBONATO               |\n",
       "| 6                            | 125858                       | 19/04/2013 00:00             | 28                           | NESSUNO SCONTO               | ABBONAMENTO RIDOTTO SCONTATO | CONTANTI                     | INFOPIEMONTE TORINO CULTURA  | PUNTO INFORMATIVO            | F                            | 1989                         | NA                           | TORINO                       | 10100                        | NUOVO ABBONATO               |\n",
       "\n"
      ],
      "text/plain": [
       "  X codcliente data_inizio      importo sconto        \n",
       "1 1  90095     09/12/2012 00:00 28      NESSUNO SCONTO\n",
       "2 2  89662     06/01/2013 00:00 28      NESSUNO SCONTO\n",
       "3 3 202278     27/01/2013 00:00 28      NESSUNO SCONTO\n",
       "4 4 269895     02/12/2012 00:00 28      NESSUNO SCONTO\n",
       "5 5  88177     26/01/2013 00:00 28      NESSUNO SCONTO\n",
       "6 6 125858     19/04/2013 00:00 28      NESSUNO SCONTO\n",
       "  riduzione                    tipo_pag agenzia                    \n",
       "1 ABBONAMENTO RIDOTTO SCONTATO CONTANTI INFOPIEMONTE TORINO CULTURA\n",
       "2 ABBONAMENTO RIDOTTO SCONTATO CONTANTI INFOPIEMONTE TORINO CULTURA\n",
       "3 ABBONAMENTO RIDOTTO SCONTATO BANCOMAT INFOPIEMONTE TORINO CULTURA\n",
       "4 ABBONAMENTO RIDOTTO SCONTATO CONTANTI LIBRERIA MONDADORI         \n",
       "5 ABBONAMENTO RIDOTTO SCONTATO CONTANTI INFOPIEMONTE TORINO CULTURA\n",
       "6 ABBONAMENTO RIDOTTO SCONTATO CONTANTI INFOPIEMONTE TORINO CULTURA\n",
       "  agenzia_tipo      sesso data_nascita professione comune   cap  \n",
       "1 PUNTO INFORMATIVO M     1985         NA          TORINO   10100\n",
       "2 PUNTO INFORMATIVO M     1985         NA          TORINO   10129\n",
       "3 PUNTO INFORMATIVO M     1992         NA          TORINO   10137\n",
       "4 PUNTO COMMERCIALE M     1986         NA          SVIZZERA 10036\n",
       "5 PUNTO INFORMATIVO M     1983         NA          TORINO   10149\n",
       "6 PUNTO INFORMATIVO F     1989         NA          TORINO   10100\n",
       "  nuovo_abb     \n",
       "1 NUOVO ABBONATO\n",
       "2 NUOVO ABBONATO\n",
       "3 NUOVO ABBONATO\n",
       "4 NUOVO ABBONATO\n",
       "5 NUOVO ABBONATO\n",
       "6 NUOVO ABBONATO"
      ]
     },
     "metadata": {},
     "output_type": "display_data"
    },
    {
     "data": {
      "text/html": [
       "<table>\n",
       "<thead><tr><th scope=col>X</th><th scope=col>datai</th><th scope=col>orai</th><th scope=col>importo</th><th scope=col>museo</th><th scope=col>prov_museo</th><th scope=col>com_museo</th><th scope=col>CodCliente</th></tr></thead>\n",
       "<tbody>\n",
       "\t<tr><td>1                        </td><td>01/12/2012               </td><td>10:10                    </td><td>7.5                      </td><td>REGGIA DI VENARIA REALE  </td><td>TO                       </td><td>VENARIA REALE            </td><td> 46715                   </td></tr>\n",
       "\t<tr><td>2                        </td><td>01/12/2012               </td><td>10:11                    </td><td>5.0                      </td><td>REGGIA DI VENARIA REALE  </td><td>TO                       </td><td>VENARIA REALE            </td><td> 46715                   </td></tr>\n",
       "\t<tr><td>3                        </td><td>01/12/2012               </td><td>10:11                    </td><td>7.5                      </td><td>REGGIA DI VENARIA REALE  </td><td>TO                       </td><td>VENARIA REALE            </td><td>133015                   </td></tr>\n",
       "\t<tr><td>4                        </td><td>01/12/2012               </td><td>10:12                    </td><td>5.0                      </td><td>REGGIA DI VENARIA REALE  </td><td>TO                       </td><td>VENARIA REALE            </td><td>133015                   </td></tr>\n",
       "\t<tr><td>5                        </td><td>01/12/2012               </td><td>10:18                    </td><td>2.5                      </td><td>MUSEO DELLA FRUTTA       </td><td>TO                       </td><td>TORINO                   </td><td> 80732                   </td></tr>\n",
       "\t<tr><td>6                        </td><td>01/12/2012               </td><td>10:39                    </td><td>5.0                      </td><td>REGGIA DI VENARIA REALE  </td><td>TO                       </td><td>VENARIA REALE            </td><td> 16834                   </td></tr>\n",
       "</tbody>\n",
       "</table>\n"
      ],
      "text/latex": [
       "\\begin{tabular}{r|llllllll}\n",
       " X & datai & orai & importo & museo & prov\\_museo & com\\_museo & CodCliente\\\\\n",
       "\\hline\n",
       "\t 1                         & 01/12/2012                & 10:10                     & 7.5                       & REGGIA DI VENARIA REALE   & TO                        & VENARIA REALE             &  46715                   \\\\\n",
       "\t 2                         & 01/12/2012                & 10:11                     & 5.0                       & REGGIA DI VENARIA REALE   & TO                        & VENARIA REALE             &  46715                   \\\\\n",
       "\t 3                         & 01/12/2012                & 10:11                     & 7.5                       & REGGIA DI VENARIA REALE   & TO                        & VENARIA REALE             & 133015                   \\\\\n",
       "\t 4                         & 01/12/2012                & 10:12                     & 5.0                       & REGGIA DI VENARIA REALE   & TO                        & VENARIA REALE             & 133015                   \\\\\n",
       "\t 5                         & 01/12/2012                & 10:18                     & 2.5                       & MUSEO DELLA FRUTTA        & TO                        & TORINO                    &  80732                   \\\\\n",
       "\t 6                         & 01/12/2012                & 10:39                     & 5.0                       & REGGIA DI VENARIA REALE   & TO                        & VENARIA REALE             &  16834                   \\\\\n",
       "\\end{tabular}\n"
      ],
      "text/markdown": [
       "\n",
       "| X | datai | orai | importo | museo | prov_museo | com_museo | CodCliente |\n",
       "|---|---|---|---|---|---|---|---|\n",
       "| 1                         | 01/12/2012                | 10:10                     | 7.5                       | REGGIA DI VENARIA REALE   | TO                        | VENARIA REALE             |  46715                    |\n",
       "| 2                         | 01/12/2012                | 10:11                     | 5.0                       | REGGIA DI VENARIA REALE   | TO                        | VENARIA REALE             |  46715                    |\n",
       "| 3                         | 01/12/2012                | 10:11                     | 7.5                       | REGGIA DI VENARIA REALE   | TO                        | VENARIA REALE             | 133015                    |\n",
       "| 4                         | 01/12/2012                | 10:12                     | 5.0                       | REGGIA DI VENARIA REALE   | TO                        | VENARIA REALE             | 133015                    |\n",
       "| 5                         | 01/12/2012                | 10:18                     | 2.5                       | MUSEO DELLA FRUTTA        | TO                        | TORINO                    |  80732                    |\n",
       "| 6                         | 01/12/2012                | 10:39                     | 5.0                       | REGGIA DI VENARIA REALE   | TO                        | VENARIA REALE             |  16834                    |\n",
       "\n"
      ],
      "text/plain": [
       "  X datai      orai  importo museo                     prov_museo com_museo    \n",
       "1 1 01/12/2012 10:10 7.5     REGGIA DI VENARIA REALE   TO         VENARIA REALE\n",
       "2 2 01/12/2012 10:11 5.0     REGGIA DI VENARIA REALE   TO         VENARIA REALE\n",
       "3 3 01/12/2012 10:11 7.5     REGGIA DI VENARIA REALE   TO         VENARIA REALE\n",
       "4 4 01/12/2012 10:12 5.0     REGGIA DI VENARIA REALE   TO         VENARIA REALE\n",
       "5 5 01/12/2012 10:18 2.5     MUSEO DELLA FRUTTA        TO         TORINO       \n",
       "6 6 01/12/2012 10:39 5.0     REGGIA DI VENARIA REALE   TO         VENARIA REALE\n",
       "  CodCliente\n",
       "1  46715    \n",
       "2  46715    \n",
       "3 133015    \n",
       "4 133015    \n",
       "5  80732    \n",
       "6  16834    "
      ]
     },
     "metadata": {},
     "output_type": "display_data"
    }
   ],
   "source": [
    "head(data1)\n",
    "head(an13)\n",
    "head(in13)"
   ]
  },
  {
   "cell_type": "code",
   "execution_count": null,
   "metadata": {},
   "outputs": [],
   "source": [
    "#Search for missing values in the dataset"
   ]
  },
  {
   "cell_type": "code",
   "execution_count": null,
   "metadata": {},
   "outputs": [],
   "source": [
    "colSums(is.na(an13))\n",
    "colSums(is.na(in13))\n",
    "colSums(is.na(data1))"
   ]
  },
  {
   "cell_type": "code",
   "execution_count": null,
   "metadata": {},
   "outputs": [],
   "source": [
    "#so imputing Sesso using Knn and removing col professione"
   ]
  },
  {
   "cell_type": "code",
   "execution_count": null,
   "metadata": {},
   "outputs": [],
   "source": [
    "an13$professione<-NA\n",
    "an1<-kNN(an13, variable=c(\"sesso\"), k=6)\n",
    "head(an1)\n",
    "an1<-an1[,-12]   #remove profession column"
   ]
  },
  {
   "cell_type": "code",
   "execution_count": null,
   "metadata": {},
   "outputs": [],
   "source": [
    "#check data_nascita \n",
    "str(an1) \n",
    "#strange level \"1-01\" and people with dob from 1900\n",
    "##we decide to remove this value and all values of dob with ages95, children less than 10 are free\n",
    "an2<- sqldf(\"Select * from an1\n",
    "        where data_nascita!='1-01' AND data_nascita!='9-02' AND data_nascita>='1924'\n",
    "            AND data_nascita<=2012\")\n",
    "#add age column to an2\n",
    "an2<-an2[,-14]\n",
    "\n",
    "head(an2)"
   ]
  },
  {
   "cell_type": "code",
   "execution_count": null,
   "metadata": {},
   "outputs": [],
   "source": [
    "an2$data_nascita<-as.character(an2$data_nascita)\n",
    "an2$data_nascita<-as.numeric(an2$data_nascita)\n",
    "an2$age<- (2019-an2$data_nascita)\n",
    "head(an2)\n",
    "levels(an2$riduzione)"
   ]
  },
  {
   "cell_type": "code",
   "execution_count": null,
   "metadata": {},
   "outputs": [],
   "source": [
    "##the data needs further cleaning because there are data points which apply pass 60 but age is 65 \n",
    "age65<- sqldf(\"select * from an2\n",
    "              where age>=65\n",
    "              order by importo\")\n",
    "head(age65)"
   ]
  },
  {
   "cell_type": "code",
   "execution_count": null,
   "metadata": {},
   "outputs": [],
   "source": [
    "an3<- sqldf(\"Select distinct * from an2\n",
    "            where cap>=10000\n",
    "            group by codcliente\n",
    "            order by cap\")\n",
    "head(an3)          \n",
    "##check structure of data\n",
    "str(an3)\n",
    "levels(an3$tipo_pag)"
   ]
  },
  {
   "cell_type": "code",
   "execution_count": null,
   "metadata": {},
   "outputs": [],
   "source": [
    "##set tipo pagamento to NESSUM PAGAMENTO for importo=0\n",
    "an5<- an3\n",
    "str(an5)\n"
   ]
  },
  {
   "cell_type": "code",
   "execution_count": null,
   "metadata": {},
   "outputs": [],
   "source": [
    "an5$tipo_pag[an5$importo == 0] <- \"NESSUN PAGAMENTO\""
   ]
  },
  {
   "cell_type": "code",
   "execution_count": null,
   "metadata": {},
   "outputs": [],
   "source": [
    "##check to see if cap is >10000 in an3\n",
    "an4<- sqldf(\"Select count(*) from an3\n",
    "            where cap<10000\n",
    "            group by codcliente\n",
    "            order by cap\")\n",
    "an4"
   ]
  },
  {
   "cell_type": "code",
   "execution_count": null,
   "metadata": {},
   "outputs": [],
   "source": [
    "##convert age to groups\n",
    "min(an5$age)\n",
    "max(an5$age)\n",
    "head(an5)\n",
    "?cut\n",
    "an5$age <- cut(an5$age, breaks = c(7,19,35,50,65,max(an5$age)),\n",
    "               labels = c(\"7-19\",\"20-35\",\"35-50\",\"50-65\",\"65+\"), include.lowest = TRUE)\n",
    "an5$age <- as.factor(an5$age)"
   ]
  },
  {
   "cell_type": "code",
   "execution_count": null,
   "metadata": {},
   "outputs": [],
   "source": [
    "##check other factors\n",
    "str(an5)\n",
    "head(an5)\n",
    "an5<-an5[,-11]\n",
    "\n"
   ]
  },
  {
   "cell_type": "markdown",
   "metadata": {},
   "source": [
    "## Data Analysis and Visualization using SQL"
   ]
  },
  {
   "cell_type": "code",
   "execution_count": null,
   "metadata": {},
   "outputs": [],
   "source": [
    "##pie chart distribution of customers by age\n",
    "\n",
    "head(an5)\n",
    "q1<-sqldf(\"select count(codcliente) AS freq, age from an5\n",
    "          group by age\n",
    "          order by freq\")\n",
    "head(q1)"
   ]
  },
  {
   "cell_type": "code",
   "execution_count": null,
   "metadata": {},
   "outputs": [],
   "source": [
    "percentage <- q1$freq / sum(q1$freq) * 100\n",
    "q1<-cbind(q1,percentage)\n",
    "q1$age <- as.character(q1$age)\n",
    "\n",
    "q1$percentage <-round(q1$percentage, digits = 0)\n",
    "\n",
    "\n",
    "mycols <- c(\"#008000\", \"#FFF44F\", \"#008080\", \"#000FFF\", \n",
    "            \"#F80000\")"
   ]
  },
  {
   "cell_type": "code",
   "execution_count": null,
   "metadata": {},
   "outputs": [],
   "source": [
    "##plot\n",
    "ggplot(q1, aes(x = \"\", y = percentage, fill = age)) +\n",
    "  geom_bar(width = 1, stat = \"identity\", color = \"white\") +\n",
    "  coord_polar(\"y\", start = 0)+\n",
    "  scale_fill_manual(values = mycols) + \n",
    "  labs(title=\"Age wise customer ditribution\")"
   ]
  },
  {
   "cell_type": "code",
   "execution_count": null,
   "metadata": {},
   "outputs": [],
   "source": [
    "#table form\n",
    "q1"
   ]
  },
  {
   "cell_type": "code",
   "execution_count": null,
   "metadata": {},
   "outputs": [],
   "source": [
    "#top museum visited\n",
    "\n",
    "mfreq<-sqldf(\"select museo,count(*) AS frequency from in13\n",
    "      group by museo\n",
    "      order by frequency DESC\n",
    "             Limit 7\")\n",
    "View(mfreq)"
   ]
  },
  {
   "cell_type": "code",
   "execution_count": null,
   "metadata": {},
   "outputs": [],
   "source": [
    "mlat<-c(45.135163,45.070865,45.064770,45.069126,45.072811,45.068392,45.608223)\n",
    "mlon<-c(7.625653,7.685953,7.669370,7.693096,7.686482,7.684416,7.744696)\n",
    "museimap<-cbind(mfreq,mlat,mlon)"
   ]
  },
  {
   "cell_type": "code",
   "execution_count": null,
   "metadata": {},
   "outputs": [],
   "source": [
    "## now for each age group, find the gender distribution"
   ]
  },
  {
   "cell_type": "code",
   "execution_count": null,
   "metadata": {},
   "outputs": [],
   "source": [
    "q2<-sqldf(\"select count(codcliente) AS freq, age, sesso from an5\n",
    "          group by age, sesso\n",
    "          order by freq, sesso\")\n",
    "q2"
   ]
  },
  {
   "cell_type": "code",
   "execution_count": null,
   "metadata": {},
   "outputs": [],
   "source": [
    "# Plot\n",
    "ggplot(q2, aes(fill=sesso, y=freq, x=age)) + \n",
    "  geom_bar(position=\"dodge\", stat=\"identity\")"
   ]
  },
  {
   "cell_type": "code",
   "execution_count": null,
   "metadata": {},
   "outputs": [],
   "source": [
    "##resultingly, the amount of teenagers is very less\n",
    "#In the young adult 20-35 group, females are double\n",
    "#population division in rest of the groups is similar\n",
    "#exception is 35-50 yrs where gender is almost equally distributed\n",
    "\n",
    "####finding mean importo of each age group\n",
    "q3<-sqldf(\"select AVG(importo) AS mean, age from an5\n",
    "          group by age\n",
    "          order by importo DESC\")"
   ]
  },
  {
   "cell_type": "code",
   "execution_count": null,
   "metadata": {},
   "outputs": [],
   "source": [
    "head(q3)\n",
    "head(an13)\n",
    "##the highest paying groups were 35-50,50-65\n",
    "#whereas the least paying were teenagers and young adults"
   ]
  },
  {
   "cell_type": "code",
   "execution_count": null,
   "metadata": {},
   "outputs": [],
   "source": [
    "##find the \n",
    "q4<-sqldf(\"select AVG(importo) AS mean_importo, age from an5\n",
    "          group by age\n",
    "          order by importo DESC\")\n",
    "head(q4)"
   ]
  },
  {
   "cell_type": "code",
   "execution_count": null,
   "metadata": {},
   "outputs": [],
   "source": [
    "ggplot(q4, aes(x=reorder(age, -mean_importo), y=mean_importo)) + \n",
    "  geom_bar(stat=\"identity\", width=0.8, fill=\"#191970\") + \n",
    "  labs(title=\"Ordered Bar Chart\",subtitle=\"mean_importo vs age group\")+\n",
    "  theme(axis.text.x=element_text(angle=65, vjust=0.6),\n",
    "        text = element_text(size=10))"
   ]
  },
  {
   "cell_type": "code",
   "execution_count": null,
   "metadata": {},
   "outputs": [],
   "source": [
    "##TOP 3 most popular sconto for each age group"
   ]
  },
  {
   "cell_type": "code",
   "execution_count": null,
   "metadata": {},
   "outputs": [],
   "source": [
    "q5<-sqldf(\"select count(*) AS customers, sconto, age from an5\n",
    "          group by sconto, age\n",
    "          order by age, customers DESC\")\n",
    "\n",
    "q51<-sqldf(\"select * from q5 where age='7-19' limit 3\")\n",
    "q52<-sqldf(\"select * from q5 where age='20-35' limit 3\")\n",
    "q53<-sqldf(\"select * from q5 where age='35-50' limit 3\")\n",
    "q54<-sqldf(\"select * from q5 where age='50-65' limit 3\")\n",
    "q55<-sqldf(\"select * from q5 where age='65+' limit 3\")\n",
    "q6<-rbind(q51,q52,q53,q54,q55)\n",
    "\n",
    "head(q6)"
   ]
  },
  {
   "cell_type": "code",
   "execution_count": null,
   "metadata": {},
   "outputs": [],
   "source": [
    "ggplot(q6, aes(fill=sconto, y=customers, x=age)) + \n",
    "  geom_bar(position=\"dodge\", stat=\"identity\")"
   ]
  },
  {
   "cell_type": "code",
   "execution_count": null,
   "metadata": {},
   "outputs": [],
   "source": [
    "##most popular payment method general\n",
    "q7<-sqldf(\"select count(*) AS freq, tipo_pag from an5 group by tipo_pag \n",
    "          Order by freq  DESC\")\n",
    "head(q7)"
   ]
  },
  {
   "cell_type": "code",
   "execution_count": null,
   "metadata": {},
   "outputs": [],
   "source": [
    "ggplot(q7, aes(x = \"\", y = freq, fill = tipo_pag)) +\n",
    "  geom_bar(width = 1, stat = \"identity\", color = \"white\") +\n",
    "  coord_polar(\"y\", start = 0)+\n",
    "  scale_fill_manual(values = mycols) + \n",
    "  labs(title=\"Payment type distribution\")"
   ]
  },
  {
   "cell_type": "code",
   "execution_count": null,
   "metadata": {},
   "outputs": [],
   "source": [
    "##thus cash was the mostly used payment method, while bacomat\n",
    "##was the second most popular\n",
    "\n",
    "q8<-sqldf(\"select count(*) AS freq, tipo_pag,age from an5 \n",
    "          group by tipo_pag, age \n",
    "          Order by age DESC, freq  DESC\")\n",
    "head(q8)"
   ]
  },
  {
   "cell_type": "code",
   "execution_count": null,
   "metadata": {},
   "outputs": [],
   "source": [
    "##thus this is payment method hierarchy is true for all payment methods\n",
    "ggplot(q8, aes(fill=tipo_pag, y=freq, x=age)) + \n",
    "  geom_bar(position=\"dodge\", stat=\"identity\")"
   ]
  },
  {
   "cell_type": "code",
   "execution_count": null,
   "metadata": {},
   "outputs": [],
   "source": [
    "##checking population by commune\n",
    "q9<- sqldf(\"select comune, count(*) as freq \n",
    "            from an5 \n",
    "           group by comune order by freq DESC\n",
    "           limit 10\")\n",
    "head(q9)"
   ]
  },
  {
   "cell_type": "code",
   "execution_count": null,
   "metadata": {},
   "outputs": [],
   "source": [
    "ggplot(q9, aes(x = comune, y = freq, fill = comune)) +\n",
    "  geom_bar(width = 1, stat = \"identity\", color = \"white\") +\n",
    "  labs(title=\"Residential distribution\")+\n",
    "  theme(axis.text.x=element_text(angle=65, vjust=0.6),\n",
    "        text = element_text(size=8))"
   ]
  },
  {
   "cell_type": "code",
   "execution_count": null,
   "metadata": {},
   "outputs": [],
   "source": [
    "##so maximum people belonging to torino, then missing data "
   ]
  },
  {
   "cell_type": "code",
   "execution_count": null,
   "metadata": {},
   "outputs": [],
   "source": [
    "#now working on in13 file\n",
    "in13$orai<-as.character(in13$orai)\n",
    "in13$datai<-as.character(in13$datai)"
   ]
  },
  {
   "cell_type": "code",
   "execution_count": null,
   "metadata": {},
   "outputs": [],
   "source": [
    "#creating a new column of time \n",
    "in13$time <- paste(in13$datai, in13$orai, sep=' ')\n",
    "str(in13$time)\n",
    "in13$time1<-as.POSIXct(in13$time, format=\"%d/%m/%Y %H:%M\")\n",
    "in13$time<-NULL"
   ]
  },
  {
   "cell_type": "code",
   "execution_count": null,
   "metadata": {},
   "outputs": [],
   "source": [
    "#renaming codcliente to be similar to an13 file\n",
    "in13$codcliente<-in13$CodCliente\n",
    "in13$CodCliente<-NULL\n",
    "in13$datai<-NULL\n",
    "in13$orai<-NULL"
   ]
  },
  {
   "cell_type": "code",
   "execution_count": null,
   "metadata": {},
   "outputs": [],
   "source": [
    "#number of visits per user\n",
    "i1<-   sqldf(\"select distinct codcliente, count(*) as visits from in13 \n",
    "              group by codcliente\n",
    "               order by visits DESC\")"
   ]
  },
  {
   "cell_type": "code",
   "execution_count": null,
   "metadata": {},
   "outputs": [],
   "source": [
    "head(i1)"
   ]
  },
  {
   "cell_type": "code",
   "execution_count": null,
   "metadata": {},
   "outputs": [],
   "source": [
    "head(in13)"
   ]
  },
  {
   "cell_type": "code",
   "execution_count": null,
   "metadata": {},
   "outputs": [],
   "source": [
    "##checking the difference in rows from an5 and i1, we know 9000 people did not visit any place\n",
    "#among those who visited, average number of visits per person\n",
    "mean(i1$visits)\n",
    "#7 visits per person\n",
    "\n",
    "##most popular museums\n",
    "i2<-   sqldf(\"select count(*) as freq, museo from in13 \n",
    "              group by museo\n",
    "               order by freq DESC\n",
    "               limit 10\")\n",
    "head(i2)"
   ]
  },
  {
   "cell_type": "code",
   "execution_count": null,
   "metadata": {},
   "outputs": [],
   "source": [
    "##customer total fictional payment\n",
    "i3<-  sqldf(\"select codcliente, count(*) as freq_visits, sum(importo) from in13 \n",
    "             group by codcliente\n",
    "             order by freq_visits DESC\")\n",
    "head(i3)\n",
    "o3<-c(\"amount hypothetically to pay\",\"amount paid\")\n",
    "o4<-c(mean(i3$`sum(importo)`),mean(an13$importo))\n",
    "o5<-cbind(o3,o4)"
   ]
  },
  {
   "cell_type": "code",
   "execution_count": null,
   "metadata": {},
   "outputs": [],
   "source": [
    "#payment needed to be made to society\n",
    "i4<-i3\n",
    "i4$associationpayment<-i3$`sum(importo)`/2\n",
    "i4$`sum(importo)`<-NULL\n",
    "head(i4)"
   ]
  },
  {
   "cell_type": "code",
   "execution_count": null,
   "metadata": {},
   "outputs": [],
   "source": [
    "##find total associationpayment vs importo\n",
    "o1<-sum(i4$associationpayment)\n",
    "o2<-sum(an13$importo)\n",
    "profit<- ((o2-o1)/o2)*100\n",
    "profit"
   ]
  },
  {
   "cell_type": "code",
   "execution_count": null,
   "metadata": {},
   "outputs": [],
   "source": [
    "#now it is better to combine all these columns together\n",
    "#we start by left join on an5 file which is the fundamental source of clientids\n",
    "i5<-sqldf(\"select * from an5 as A,i4 as I \n",
    "         ON A.codcliente=I.codcliente\")\n",
    "i5<-i5[,-13]\n",
    "head(i5)"
   ]
  },
  {
   "cell_type": "code",
   "execution_count": null,
   "metadata": {},
   "outputs": [],
   "source": [
    "##now do another join to concatenate data1 dataframe to know who churned and who did not\n",
    "total<-sqldf(\"select * from i5 as A,data1 as D \n",
    "         ON A.codcliente=D.codcliente\")\n",
    "head(total)"
   ]
  },
  {
   "cell_type": "code",
   "execution_count": null,
   "metadata": {},
   "outputs": [],
   "source": [
    "total<-total[,c(2,3,4,5,6,7,8,9,10,11,12,13,15,16,19,20,21,22)]\n",
    "\n",
    "head(total)"
   ]
  },
  {
   "cell_type": "code",
   "execution_count": null,
   "metadata": {},
   "outputs": [],
   "source": [
    "#group by client the visit data\n",
    "x1<-sqldf(\"select * from i5 group by codcliente\")\n",
    "#find those clients who did not visit at all\n",
    "x3<-setDT(an5)[!x1, on=\"codcliente\"]\n",
    "head(x3)"
   ]
  },
  {
   "cell_type": "code",
   "execution_count": null,
   "metadata": {},
   "outputs": [],
   "source": [
    "#find the churn information of clients who did not visit at all\n",
    "x4<-sqldf(\"select * from x3 as A, data1 as I where\n",
    "          A.codcliente=I.codcliente\")\n",
    "head(x4)"
   ]
  },
  {
   "cell_type": "code",
   "execution_count": null,
   "metadata": {},
   "outputs": [],
   "source": [
    "#removing unwanted columns\n",
    "x4<-x4[,-1]\n",
    "x4<-x4[,-12]\n",
    "\n",
    "head(x4)"
   ]
  },
  {
   "cell_type": "code",
   "execution_count": null,
   "metadata": {},
   "outputs": [],
   "source": [
    "x4<-x4[,-13]\n",
    "x4<-x4[,-13]"
   ]
  },
  {
   "cell_type": "markdown",
   "metadata": {},
   "source": [
    "## Data preparation for Churn Prediction"
   ]
  },
  {
   "cell_type": "code",
   "execution_count": null,
   "metadata": {},
   "outputs": [],
   "source": [
    "k1<-x4\n",
    "k1$freq_visits<-as.integer(0)\n",
    "k1$associationpayment<-as.numeric(0)\n",
    "k1<-k1[,c(-14,-15,-16)]\n",
    "k1<-k1[,c(1:12,14,15,13)]\n",
    "head(k1)"
   ]
  },
  {
   "cell_type": "code",
   "execution_count": null,
   "metadata": {},
   "outputs": [],
   "source": [
    "#removing last entry, 2013 subscription and 2014 subscription column\n",
    "main<-total\n",
    "main<-main[,c(-16,-17,-18)]\n",
    "\n",
    "head(main)"
   ]
  },
  {
   "cell_type": "code",
   "execution_count": null,
   "metadata": {},
   "outputs": [],
   "source": [
    "##combining these two subsets of customers who visited and customers who did not visit\n",
    "combined<-rbind(main,k1)"
   ]
  },
  {
   "cell_type": "code",
   "execution_count": null,
   "metadata": {},
   "outputs": [],
   "source": [
    "#checking and fixing structure of main\n",
    "str(combined)\n",
    "combined$si2014<-as.factor(combined$si2014)\n",
    "##data set with customerid removed\n",
    "##IMPORTANT CHECK POINT TO IDENTIFY CUSTOMERS AT THE END\n",
    "train<-combined\n",
    "head(train)"
   ]
  },
  {
   "cell_type": "code",
   "execution_count": null,
   "metadata": {},
   "outputs": [],
   "source": [
    "#removing client ID\n",
    "train<-train[,-1]\n",
    "\n",
    "#treating date\n",
    "train$data_inizio<-as.character(train$data_inizio)\n",
    "\n",
    "#creating a new column of time and shifting it to week \n",
    "train$startdate<-as.POSIXct(train$data_inizio, format=\"%d/%m/%Y %H:%M\")\n",
    "train$data_inizio<-NULL\n",
    "train$weekstart<-format(as.Date(train$startdate), \"%W\")\n",
    "train$startdate<-NULL\n",
    "train$weekstart<-as.factor(train$weekstart)\n",
    "str(train)\n",
    "head(train)"
   ]
  },
  {
   "cell_type": "markdown",
   "metadata": {},
   "source": [
    "#### CORRELATION ANALYSIS"
   ]
  },
  {
   "cell_type": "code",
   "execution_count": null,
   "metadata": {},
   "outputs": [],
   "source": [
    "train$importo<-as.numeric(train$importo)\n",
    "train$freq_visits<-as.numeric(train$freq_visits)\n",
    "numeric.var <- sapply(train, is.numeric)\n",
    "corr.matrix <- cor(train[,numeric.var])\n",
    "corrplot(corr.matrix, main=\"\\n\\nCorrelation Plot for Numerical Variables\", method=\"number\")\n",
    "cor(train$freq_visits,train$importo)"
   ]
  },
  {
   "cell_type": "code",
   "execution_count": null,
   "metadata": {},
   "outputs": [],
   "source": [
    "##thus from the correlation plot, we can say that freq_visits are \n",
    "##strongly correlated to associationpayment, while importo is not\n",
    "##correlated to both, freq_visits and association payment\n",
    "##so we select association payment and importo as numerical variables\n",
    "train$freq_visits<-NULL\n",
    "\n"
   ]
  },
  {
   "cell_type": "code",
   "execution_count": null,
   "metadata": {},
   "outputs": [],
   "source": [
    "##Getting Churn column\n",
    "str(train)\n",
    "k5<-as.character(combined$si2014)\n",
    "k5<-ifelse(k5==\"0\",\"Yes\",\"No\")\n",
    "k5\n"
   ]
  },
  {
   "cell_type": "code",
   "execution_count": null,
   "metadata": {},
   "outputs": [],
   "source": [
    "k5<-as.factor(k5)\n",
    "str(k5)\n",
    "Churn<-k5\n",
    "train$Churn<-Churn\n",
    "train$si2014<-NULL\n",
    "str(train)\n",
    "train"
   ]
  },
  {
   "cell_type": "code",
   "execution_count": null,
   "metadata": {},
   "outputs": [],
   "source": [
    "##to deal with comune, agenzia, cap, weekstart, we take top values and label rest as others\n",
    "an13"
   ]
  },
  {
   "cell_type": "code",
   "execution_count": null,
   "metadata": {},
   "outputs": [],
   "source": [
    "##somehow comune data got deleted, so readd that data\n",
    "#comune<-sqldf(\"select A.comune from an13 as A, combined as C where\n",
    "#          A.codcliente=C.codcliente\")\n",
    "#str(comune)\n",
    "#train$comune<-as.character(comune)"
   ]
  },
  {
   "cell_type": "code",
   "execution_count": null,
   "metadata": {},
   "outputs": [],
   "source": [
    "set.seed(1)\n",
    "str(train)\n",
    "train$agenzia<-fct_lump(train$agenzia,n=4)\n",
    "train$agenzia_tipo<-fct_lump(train$agenzia_tipo,n=4)\n",
    "train$cap<-fct_lump(train$cap, n=4)\n",
    "train$comune<-fct_lump(train$comune, n=2)\n",
    "train$weekstart<-fct_lump(train$weekstart, n= 4)\n",
    "train$sconto<-fct_lump(train$sconto, n=4)\n",
    "train$riduzione<-fct_lump(train$riduzione, n=4)"
   ]
  },
  {
   "cell_type": "code",
   "execution_count": null,
   "metadata": {},
   "outputs": [],
   "source": [
    "str(train)"
   ]
  },
  {
   "cell_type": "code",
   "execution_count": null,
   "metadata": {},
   "outputs": [],
   "source": [
    "train"
   ]
  },
  {
   "cell_type": "markdown",
   "metadata": {},
   "source": [
    "#### Gradient Boosting Model "
   ]
  },
  {
   "cell_type": "code",
   "execution_count": null,
   "metadata": {},
   "outputs": [],
   "source": [
    "#####gbm\n",
    "# dummy variables for factors/characters\n",
    "train$Churn<-as.integer(train$Churn)\n",
    "View(train)"
   ]
  },
  {
   "cell_type": "code",
   "execution_count": null,
   "metadata": {},
   "outputs": [],
   "source": [
    "str(train)"
   ]
  },
  {
   "cell_type": "code",
   "execution_count": null,
   "metadata": {},
   "outputs": [],
   "source": [
    "dummy <- dummyVars(\"~.\",data=train, fullRank=F)\n",
    "dv1 <- as.data.frame(predict(dummy,train))\n",
    "print(names(dv1))\n",
    "\n",
    "prop.table(table(dv1$Churn))"
   ]
  },
  {
   "cell_type": "code",
   "execution_count": null,
   "metadata": {},
   "outputs": [],
   "source": [
    "# save the outcome for the glmnet model\n",
    "tempOutcome <- dv1$Churn  "
   ]
  },
  {
   "cell_type": "code",
   "execution_count": null,
   "metadata": {},
   "outputs": [],
   "source": [
    "# generalize outcome and predictor variables\n",
    "outcomeName <- 'Churn'\n",
    "predictorsNames <- names(dv1)[names(dv1) != outcomeName]"
   ]
  },
  {
   "cell_type": "code",
   "execution_count": null,
   "metadata": {},
   "outputs": [],
   "source": [
    "outcomeName\n",
    "predictorsNames"
   ]
  },
  {
   "cell_type": "code",
   "execution_count": null,
   "metadata": {},
   "outputs": [],
   "source": [
    "#################################################\n",
    "# model it\n",
    "#################################################\n",
    "# get names of all caret supported models\n",
    "names(getModelInfo())\n",
    "str(dv1$Churn)"
   ]
  },
  {
   "cell_type": "code",
   "execution_count": null,
   "metadata": {},
   "outputs": [],
   "source": [
    "l <- as.character(dv1$Churn)\n",
    "l<-(ifelse(l==\"2\",\"Yes\",\"No\"))\n",
    "l<-as.factor(l)"
   ]
  },
  {
   "cell_type": "code",
   "execution_count": null,
   "metadata": {},
   "outputs": [],
   "source": [
    "l"
   ]
  },
  {
   "cell_type": "code",
   "execution_count": null,
   "metadata": {},
   "outputs": [],
   "source": [
    "dv1$Churn<-l\n",
    "str(dv1)"
   ]
  },
  {
   "cell_type": "code",
   "execution_count": null,
   "metadata": {},
   "outputs": [],
   "source": [
    "###########################################################\n",
    "#temporarily adding codice cliente to remove after split\n",
    "dv1$codcliente<-combined$codcliente\n",
    "clientid<-dv1$codcliente"
   ]
  },
  {
   "cell_type": "code",
   "execution_count": null,
   "metadata": {},
   "outputs": [],
   "source": [
    "# pick model gbm and find out what type of model it is\n",
    "getModelInfo()$gbm$type"
   ]
  },
  {
   "cell_type": "code",
   "execution_count": null,
   "metadata": {},
   "outputs": [],
   "source": [
    "# split data into training and testing chunks\n",
    "set.seed(1234)\n",
    "splitIndex <- createDataPartition(dv1[,outcomeName], p = .75, list = FALSE, times = 1)\n",
    "trainDF <- dv1[ splitIndex,]\n",
    "testDF  <- dv1[-splitIndex,]\n",
    "dim(trainDF)\n",
    "dim(testDF)"
   ]
  },
  {
   "cell_type": "code",
   "execution_count": null,
   "metadata": {},
   "outputs": [],
   "source": [
    "#removing and storing clientids of both separately\n",
    "cidtrain<-trainDF$codcliente\n",
    "cidtest<-testDF$codcliente\n",
    "trainDF$codcliente<-NULL\n",
    "testDF$codcliente<-NULL"
   ]
  },
  {
   "cell_type": "code",
   "execution_count": null,
   "metadata": {},
   "outputs": [],
   "source": [
    "# create caret trainControl object to control the number of cross-validations performed\n",
    "objControl <- trainControl(method='cv', number=3, returnResamp='none', summaryFunction = twoClassSummary, classProbs = TRUE)"
   ]
  },
  {
   "cell_type": "code",
   "execution_count": null,
   "metadata": {},
   "outputs": [],
   "source": [
    "# run model\n",
    "str(trainDF)"
   ]
  },
  {
   "cell_type": "code",
   "execution_count": null,
   "metadata": {},
   "outputs": [],
   "source": [
    "objModel <- caret::train(trainDF[,predictorsNames], as.factor(trainDF[,outcomeName]), \n",
    "                         method='gbm', \n",
    "                         trControl=objControl,  \n",
    "                         metric = \"ROC\",\n",
    "                         preProc = c(\"center\", \"scale\"))"
   ]
  },
  {
   "cell_type": "code",
   "execution_count": null,
   "metadata": {},
   "outputs": [],
   "source": [
    "# find out variable importance\n",
    "summary(objModel)"
   ]
  },
  {
   "cell_type": "code",
   "execution_count": null,
   "metadata": {},
   "outputs": [],
   "source": [
    "# find out model details\n",
    "##gbm takes interaction depth, no. of trees and shrinkage.\n",
    "##best tuning parameter \n",
    "objModel"
   ]
  },
  {
   "cell_type": "code",
   "execution_count": null,
   "metadata": {},
   "outputs": [],
   "source": [
    "trainDF"
   ]
  },
  {
   "cell_type": "code",
   "execution_count": null,
   "metadata": {},
   "outputs": [],
   "source": [
    "trainDF$associationpayment"
   ]
  },
  {
   "cell_type": "code",
   "execution_count": null,
   "metadata": {},
   "outputs": [],
   "source": [
    "#class prediction\n",
    "predictions <- predict(object=objModel, testDF[,predictorsNames], type='raw')\n",
    "head(predictions)\n",
    "print(postResample(pred=predictions, obs=as.factor(testDF[,outcomeName])))"
   ]
  },
  {
   "cell_type": "code",
   "execution_count": null,
   "metadata": {},
   "outputs": [],
   "source": [
    "# probabilites \n",
    "library(pROC)\n",
    "predictions <- predict(object=objModel, testDF[,predictorsNames], type='prob')\n",
    "head(predictions)"
   ]
  },
  {
   "cell_type": "code",
   "execution_count": null,
   "metadata": {},
   "outputs": [],
   "source": [
    "postResample(pred=predictions[[2]],\n",
    "             obs=ifelse(testDF[,outcomeName]=='yes',1,0))\n",
    "str(testDF$Churn)\n",
    "auc <- roc(ifelse(testDF[,outcomeName]==\"Yes\",1,0), predictions[[2]])\n",
    "print(auc$auc)"
   ]
  },
  {
   "cell_type": "markdown",
   "metadata": {},
   "source": [
    "##### Selecting top 5000 customers to contact based on prediction"
   ]
  },
  {
   "cell_type": "code",
   "execution_count": null,
   "metadata": {},
   "outputs": [],
   "source": [
    "testDF$clientID<-cidtest\n",
    "testDF$prob_churn<-predictions$Yes\n",
    "testDF"
   ]
  },
  {
   "cell_type": "code",
   "execution_count": null,
   "metadata": {},
   "outputs": [],
   "source": [
    "testDF$profit<-testDF$importo-testDF$associationpayment"
   ]
  },
  {
   "cell_type": "code",
   "execution_count": null,
   "metadata": {},
   "outputs": [],
   "source": [
    "# CUSTOMERS TO CONTACT FOR THE CAMPAIGN\n",
    "customers_to_contact<-sqldf(\"select clientID,profit,prob_churn from testDF order by profit DESC\n",
    "                            limit 5000\")"
   ]
  },
  {
   "cell_type": "code",
   "execution_count": null,
   "metadata": {},
   "outputs": [],
   "source": [
    "customers_to_contact"
   ]
  },
  {
   "cell_type": "code",
   "execution_count": null,
   "metadata": {},
   "outputs": [],
   "source": [
    "#profit=importo-associationpayment\n",
    "#View(data1)\n",
    "#minimization<-cbind(predictions$Yes)"
   ]
  },
  {
   "cell_type": "code",
   "execution_count": null,
   "metadata": {},
   "outputs": [],
   "source": [
    "################################################\n",
    "# glmnet model\n",
    "################################################\n",
    "\n",
    "# pick model gbm and find out what type of model it is\n",
    "getModelInfo()$glmnet$type"
   ]
  },
  {
   "cell_type": "code",
   "execution_count": null,
   "metadata": {},
   "outputs": [],
   "source": [
    "# save the outcome for the glmnet model\n",
    "str(dv1$Churn)\n",
    "dv1$Churn<-l\n",
    "str(dv1)"
   ]
  },
  {
   "cell_type": "code",
   "execution_count": null,
   "metadata": {},
   "outputs": [],
   "source": [
    "#temporarily adding codice cliente to remove after split\n",
    "dv1$codcliente<-combined$codcliente"
   ]
  },
  {
   "cell_type": "code",
   "execution_count": null,
   "metadata": {},
   "outputs": [],
   "source": [
    "# split data into training and testing chunks\n",
    "set.seed(1234)\n",
    "splitIndex <- createDataPartition(dv1[,outcomeName], p = .75, list = FALSE, times = 1)\n",
    "trainDF <- dv1[ splitIndex,]\n",
    "testDF  <- dv1[-splitIndex,]"
   ]
  },
  {
   "cell_type": "code",
   "execution_count": null,
   "metadata": {},
   "outputs": [],
   "source": [
    "#removing and storing clientids of both separately\n",
    "cidtrain<-trainDF$codcliente\n",
    "cidtest<-testDF$codcliente\n",
    "trainDF$codcliente<-NULL\n",
    "testDF$codcliente<-NULL"
   ]
  },
  {
   "cell_type": "code",
   "execution_count": null,
   "metadata": {},
   "outputs": [],
   "source": [
    "# pick model glm and find out what type of model it is\n",
    "str(trainDF)\n",
    "LR <- glm(Churn~.,family=binomial(link=\"logit\"),data=trainDF)\n",
    "\n",
    "print(summary(LR))\n",
    "LR\n",
    "anova(LR, test=\"Chisq\")"
   ]
  },
  {
   "cell_type": "code",
   "execution_count": null,
   "metadata": {},
   "outputs": [],
   "source": [
    "#assessing the ability of model\n",
    "test$Churn <- as.character(test$Churn)\n",
    "test$Churn[test$Churn==\"No\"] <- \"0\"\n",
    "test$Churn[test$Churn==\"Yes\"] <- \"1\"\n",
    "fitted.results <- predict(LR,newdata=testDF,type='response')\n",
    "fitted.results"
   ]
  },
  {
   "cell_type": "code",
   "execution_count": null,
   "metadata": {},
   "outputs": [],
   "source": [
    "cutoffs <- seq(0.1,0.9,0.1)\n",
    "accuracy <- NULL\n",
    "for (i in seq(along = cutoffs)){\n",
    "  prediction <- ifelse(fitted.results >= cutoffs[i], 1, 0) #Predicting for cut-off\n",
    "  accuracy <- c(accuracy,length(which(testDF$Churn ==prediction))/length(prediction)*100)\n",
    "}"
   ]
  },
  {
   "cell_type": "code",
   "execution_count": null,
   "metadata": {},
   "outputs": [],
   "source": [
    "plot(cutoffs, accuracy, pch =19,type='b',col= \"steelblue\",\n",
    "     main =\"Logistic Regression\", xlab=\"Cutoff Level\", ylab = \"Accuracy %\")"
   ]
  },
  {
   "cell_type": "code",
   "execution_count": null,
   "metadata": {},
   "outputs": [],
   "source": [
    "######################################################\n",
    "###glm without dummy variables"
   ]
  },
  {
   "cell_type": "code",
   "execution_count": null,
   "metadata": {},
   "outputs": [],
   "source": [
    "train"
   ]
  },
  {
   "cell_type": "code",
   "execution_count": null,
   "metadata": {},
   "outputs": [],
   "source": [
    "str(train)\n",
    "p1<-as.factor(train$Churn)\n",
    "train$Churn<-p1\n",
    "p2<-train"
   ]
  },
  {
   "cell_type": "code",
   "execution_count": null,
   "metadata": {},
   "outputs": [],
   "source": [
    "#temporarily adding codice cliente to remove after split\n",
    "p2$codcliente<-combined$codcliente"
   ]
  },
  {
   "cell_type": "code",
   "execution_count": null,
   "metadata": {},
   "outputs": [],
   "source": [
    "# split data into training and testing chunks\n",
    "set.seed(1234)\n",
    "splitIndex <- createDataPartition(p2[,outcomeName], p = .75, list = FALSE, times = 1)\n",
    "glmtrain <- p2[ splitIndex,]\n",
    "glmtest  <- p2[-splitIndex,]"
   ]
  },
  {
   "cell_type": "code",
   "execution_count": null,
   "metadata": {},
   "outputs": [],
   "source": [
    "#removing and storing clientids of both separately\n",
    "cidtrain<-glmtrain$codcliente\n",
    "cidtest<-glmtest$codcliente\n",
    "glmtrain$codcliente<-NULL\n",
    "glmtest$codcliente<-NULL"
   ]
  },
  {
   "cell_type": "code",
   "execution_count": null,
   "metadata": {},
   "outputs": [],
   "source": [
    "# pick model glm and find out what type of model it is\n",
    "str(glmtrain)\n",
    "LR <- glm(Churn~.,family=binomial(link=\"logit\"),data=glmtrain)\n",
    "\n",
    "print(summary(LR))"
   ]
  },
  {
   "cell_type": "code",
   "execution_count": null,
   "metadata": {},
   "outputs": [],
   "source": [
    "LR"
   ]
  },
  {
   "cell_type": "code",
   "execution_count": null,
   "metadata": {},
   "outputs": [],
   "source": [
    "anova(LR, test=\"Chisq\")"
   ]
  },
  {
   "cell_type": "code",
   "execution_count": null,
   "metadata": {},
   "outputs": [],
   "source": [
    "#assessing the ability of model\n",
    "fitted.results <- predict(LR,newdata=glmtest,type='response')\n",
    "View(fitted.results)"
   ]
  },
  {
   "cell_type": "code",
   "execution_count": null,
   "metadata": {},
   "outputs": [],
   "source": [
    "cutoffs <- seq(0.1,0.9,0.1)\n",
    "accuracy <- NULL\n",
    "for (i in seq(along = cutoffs)){\n",
    "  prediction <- ifelse(fitted.results >= cutoffs[i], 1, 0) #Predicting for cut-off\n",
    "  accuracy <- c(accuracy,length(which(glmtest$Churn ==prediction))/length(prediction)*100)\n",
    "}"
   ]
  },
  {
   "cell_type": "code",
   "execution_count": null,
   "metadata": {},
   "outputs": [],
   "source": [
    "plot(cutoffs, accuracy, pch =19,type='b',col= \"steelblue\",\n",
    "     main =\"Logistic Regression\", xlab=\"Cutoff Level\", ylab = \"Accuracy %\")"
   ]
  },
  {
   "cell_type": "code",
   "execution_count": null,
   "metadata": {},
   "outputs": [],
   "source": [
    "################################################################\n",
    "#################EVTREE\n",
    "### without dummy variables\n",
    "\n",
    "train"
   ]
  },
  {
   "cell_type": "code",
   "execution_count": null,
   "metadata": {},
   "outputs": [],
   "source": [
    "str(train)"
   ]
  },
  {
   "cell_type": "code",
   "execution_count": null,
   "metadata": {},
   "outputs": [],
   "source": [
    "#run following line if Churn not in factor form\n",
    "#p1<-as.factor(train$Churn)\n",
    "#train$Churn<-p1\n",
    "p3<-train"
   ]
  },
  {
   "cell_type": "code",
   "execution_count": null,
   "metadata": {},
   "outputs": [],
   "source": [
    "#temporarily adding codice cliente to remove after split\n",
    "p3$codcliente<-combined$codcliente"
   ]
  },
  {
   "cell_type": "code",
   "execution_count": null,
   "metadata": {},
   "outputs": [],
   "source": [
    "# split data into training and testing chunks\n",
    "set.seed(1234)\n",
    "splitIndex <- createDataPartition(p3[,outcomeName], p = .75, list = FALSE, times = 1)\n",
    "evtrain <- p3[ splitIndex,]\n",
    "evtest  <- p3[-splitIndex,]"
   ]
  },
  {
   "cell_type": "code",
   "execution_count": null,
   "metadata": {},
   "outputs": [],
   "source": [
    "#removing and storing clientids of both separately\n",
    "cidtrain<-evtrain$codcliente\n",
    "cidtest<-evtest$codcliente\n",
    "evtrain$codcliente<-NULL\n",
    "evtest$codcliente<-NULL\n"
   ]
  },
  {
   "cell_type": "code",
   "execution_count": null,
   "metadata": {},
   "outputs": [],
   "source": [
    "# pick model glm and find out what type of model it is\n",
    "str(evtrain)"
   ]
  },
  {
   "cell_type": "code",
   "execution_count": null,
   "metadata": {},
   "outputs": [],
   "source": [
    "evt<-evtree(Churn~.,data=evtrain)\n",
    "#plot(evt)\n",
    "#predict(evt,evtest)\n",
    "#table(trainDF[])\n",
    "#View(train)\n",
    "#levels(train$cap)\n",
    "#str(train)\n",
    "\n",
    "an13"
   ]
  },
  {
   "cell_type": "code",
   "execution_count": null,
   "metadata": {},
   "outputs": [],
   "source": [
    "#################################random forest model\n",
    "library(randomForest)\n",
    "rfm <- randomForest(Churn ~., data = tr)\n",
    "print(rfm)\n",
    "rfm"
   ]
  },
  {
   "cell_type": "code",
   "execution_count": null,
   "metadata": {},
   "outputs": [],
   "source": [
    "#predition accurary test and confusion matrix\n",
    "rfpred <- predict(rfm, test)\n",
    "str(rfpred)"
   ]
  },
  {
   "cell_type": "code",
   "execution_count": null,
   "metadata": {},
   "outputs": [],
   "source": [
    "str(n)"
   ]
  },
  {
   "cell_type": "code",
   "execution_count": null,
   "metadata": {},
   "outputs": [],
   "source": [
    "n<-as.factor(test$Churn)\n",
    "n<-as.factor(mapvalues(n,\n",
    "                       from=c(\"0\",\"1\"),\n",
    "                       to=c(\"No\", \"Yes\")))"
   ]
  },
  {
   "cell_type": "code",
   "execution_count": null,
   "metadata": {},
   "outputs": [],
   "source": [
    "caret::confusionMatrix(rfpred, n)"
   ]
  },
  {
   "cell_type": "code",
   "execution_count": null,
   "metadata": {},
   "outputs": [],
   "source": [
    "plot(rfm)"
   ]
  },
  {
   "cell_type": "code",
   "execution_count": null,
   "metadata": {},
   "outputs": [],
   "source": [
    "#####################kNN\n",
    "kNN(an13, variable=c(\"sesso\"), k=6)\n",
    "str(p3)\n",
    "p4<-p3$Churn\n",
    "p3$Churn<-as.integer(p3$Churn)"
   ]
  },
  {
   "cell_type": "code",
   "execution_count": null,
   "metadata": {},
   "outputs": [],
   "source": [
    "dummy <- dummyVars(\"~.\",data=p3, fullRank=F)\n",
    "dv2 <- as.data.frame(predict(dummy,p3))\n",
    "print(names(dv2))"
   ]
  },
  {
   "cell_type": "code",
   "execution_count": null,
   "metadata": {},
   "outputs": [],
   "source": [
    "#readd churn as factor\n",
    "dv2$Churn<-p4\n",
    "#temporarily adding codice cliente to remove after split\n",
    "#p3$codcliente<-combined$codcliente\n",
    "# split data into training and testing chunks"
   ]
  },
  {
   "cell_type": "code",
   "execution_count": null,
   "metadata": {},
   "outputs": [],
   "source": [
    "set.seed(1234)\n",
    "splitIndex <- createDataPartition(dv2[,outcomeName], p = .75, list = FALSE, times = 1)\n",
    "knntrain <- dv2[ splitIndex,]\n",
    "knntest  <- dv2[-splitIndex,]"
   ]
  },
  {
   "cell_type": "code",
   "execution_count": null,
   "metadata": {},
   "outputs": [],
   "source": [
    "#removing and storing clientids of both separately\n",
    "cidtrain<-knntrain$codcliente\n",
    "cidtest<-knntest$codcliente\n",
    "knntrain$codcliente<-NULL\n",
    "knntest$codcliente<-NULL"
   ]
  },
  {
   "cell_type": "code",
   "execution_count": null,
   "metadata": {},
   "outputs": [],
   "source": [
    "# pick model knn and find out what type of model it is\n",
    "str(knntrain)\n",
    "trControl2<-trainControl(method=\"repeatedcv\",number=10,repeats=3)\n",
    "knnfit<-caret::train(Churn ~.,data=knntrain,method='knn',tuneLength=20,\n",
    "                     trControl=trControl2, preProc=c(\"center\",\"scale\"))"
   ]
  }
 ],
 "metadata": {
  "kernelspec": {
   "display_name": "R",
   "language": "R",
   "name": "ir"
  },
  "language_info": {
   "codemirror_mode": "r",
   "file_extension": ".r",
   "mimetype": "text/x-r-source",
   "name": "R",
   "pygments_lexer": "r",
   "version": "3.6.1"
  }
 },
 "nbformat": 4,
 "nbformat_minor": 2
}
